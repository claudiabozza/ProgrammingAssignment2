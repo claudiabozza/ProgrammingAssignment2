{
  "nbformat": 4,
  "nbformat_minor": 0,
  "metadata": {
    "colab": {
      "name": "Python Bootcamp.ipynb",
      "version": "0.3.2",
      "provenance": [],
      "include_colab_link": true
    },
    "kernelspec": {
      "name": "python3",
      "display_name": "Python 3"
    }
  },
  "cells": [
    {
      "cell_type": "markdown",
      "metadata": {
        "id": "view-in-github",
        "colab_type": "text"
      },
      "source": [
        "<a href=\"https://colab.research.google.com/github/claudiabozza/ProgrammingAssignment2/blob/master/Python_Bootcamp.ipynb\" target=\"_parent\"><img src=\"https://colab.research.google.com/assets/colab-badge.svg\" alt=\"Open In Colab\"/></a>"
      ]
    },
    {
      "metadata": {
        "id": "2kqUauPboUjg",
        "colab_type": "text"
      },
      "cell_type": "markdown",
      "source": [
        "##**Google Colab: Import Files **"
      ]
    },
    {
      "metadata": {
        "id": "wB68XSP3ocNQ",
        "colab_type": "text"
      },
      "cell_type": "markdown",
      "source": [
        "**Import Files Google Colab**"
      ]
    },
    {
      "metadata": {
        "id": "cCqEkVIrojOC",
        "colab_type": "code",
        "colab": {}
      },
      "cell_type": "code",
      "source": [
        "# import libraries\n",
        "from google.colab import files\n",
        "import pandas as pd\n",
        "import io"
      ],
      "execution_count": 0,
      "outputs": []
    },
    {
      "metadata": {
        "id": "Gok1Jpm0oduc",
        "colab_type": "code",
        "colab": {}
      },
      "cell_type": "code",
      "source": [
        "# chose csv file\n",
        "uploaded = files.upload()"
      ],
      "execution_count": 0,
      "outputs": []
    },
    {
      "metadata": {
        "id": "BN3uAx5TogU7",
        "colab_type": "code",
        "colab": {}
      },
      "cell_type": "code",
      "source": [
        "# save file to pandas dataframe\n",
        "dataframe_name = pd.read_csv(io.StringIO(uploaded['csv_name.csv'].decode('utf-8')))"
      ],
      "execution_count": 0,
      "outputs": []
    },
    {
      "metadata": {
        "id": "-3PQyKb9eEl6",
        "colab_type": "text"
      },
      "cell_type": "markdown",
      "source": [
        "## **Basics Python Object and Data Structure**"
      ]
    },
    {
      "metadata": {
        "id": "nSMgc1Ilby_t",
        "colab_type": "text"
      },
      "cell_type": "markdown",
      "source": [
        "**Data Types**"
      ]
    },
    {
      "metadata": {
        "id": "IO0OFIsqbh54",
        "colab_type": "code",
        "colab": {}
      },
      "cell_type": "code",
      "source": [
        ""
      ],
      "execution_count": 0,
      "outputs": []
    },
    {
      "metadata": {
        "id": "aMpl4ON7cDRo",
        "colab_type": "text"
      },
      "cell_type": "markdown",
      "source": [
        "**Numbers**"
      ]
    },
    {
      "metadata": {
        "id": "IBtm8BukcHYR",
        "colab_type": "code",
        "colab": {}
      },
      "cell_type": "code",
      "source": [
        ""
      ],
      "execution_count": 0,
      "outputs": []
    },
    {
      "metadata": {
        "id": "krF4ZwXZcQCH",
        "colab_type": "text"
      },
      "cell_type": "markdown",
      "source": [
        "**Variable Assignments**"
      ]
    },
    {
      "metadata": {
        "id": "5BdrPdPrcVLG",
        "colab_type": "code",
        "colab": {}
      },
      "cell_type": "code",
      "source": [
        ""
      ],
      "execution_count": 0,
      "outputs": []
    },
    {
      "metadata": {
        "id": "-c4tQsWUcWIN",
        "colab_type": "text"
      },
      "cell_type": "markdown",
      "source": [
        "**Strings**"
      ]
    },
    {
      "metadata": {
        "id": "MImFVSwxcZ6f",
        "colab_type": "code",
        "colab": {}
      },
      "cell_type": "code",
      "source": [
        ""
      ],
      "execution_count": 0,
      "outputs": []
    },
    {
      "metadata": {
        "id": "zNHZI_MXceQd",
        "colab_type": "text"
      },
      "cell_type": "markdown",
      "source": [
        "**Lists**"
      ]
    },
    {
      "metadata": {
        "id": "zYW7ETSsccmE",
        "colab_type": "code",
        "colab": {}
      },
      "cell_type": "code",
      "source": [
        ""
      ],
      "execution_count": 0,
      "outputs": []
    },
    {
      "metadata": {
        "id": "M19t4u2jcoRt",
        "colab_type": "text"
      },
      "cell_type": "markdown",
      "source": [
        "**Dictionaries**"
      ]
    },
    {
      "metadata": {
        "id": "cpZ8cXXHctEE",
        "colab_type": "code",
        "colab": {}
      },
      "cell_type": "code",
      "source": [
        ""
      ],
      "execution_count": 0,
      "outputs": []
    },
    {
      "metadata": {
        "id": "EjezlbuNcti2",
        "colab_type": "text"
      },
      "cell_type": "markdown",
      "source": [
        "**Tuples**"
      ]
    },
    {
      "metadata": {
        "id": "k4C99YWYcxvp",
        "colab_type": "code",
        "colab": {}
      },
      "cell_type": "code",
      "source": [
        ""
      ],
      "execution_count": 0,
      "outputs": []
    },
    {
      "metadata": {
        "id": "Y4HKCcoDcx64",
        "colab_type": "text"
      },
      "cell_type": "markdown",
      "source": [
        "**Sets**"
      ]
    },
    {
      "metadata": {
        "id": "eG_WE6Y1c15n",
        "colab_type": "code",
        "colab": {}
      },
      "cell_type": "code",
      "source": [
        ""
      ],
      "execution_count": 0,
      "outputs": []
    },
    {
      "metadata": {
        "id": "xP8Wq1xxc2ZA",
        "colab_type": "text"
      },
      "cell_type": "markdown",
      "source": [
        "**Booleans**"
      ]
    },
    {
      "metadata": {
        "id": "3pzASPItc6T-",
        "colab_type": "code",
        "colab": {}
      },
      "cell_type": "code",
      "source": [
        ""
      ],
      "execution_count": 0,
      "outputs": []
    },
    {
      "metadata": {
        "id": "DOcZqLQTc6l_",
        "colab_type": "text"
      },
      "cell_type": "markdown",
      "source": [
        "**File I/O**"
      ]
    },
    {
      "metadata": {
        "id": "_cOuq86mdZwd",
        "colab_type": "code",
        "colab": {}
      },
      "cell_type": "code",
      "source": [
        ""
      ],
      "execution_count": 0,
      "outputs": []
    },
    {
      "metadata": {
        "id": "cnz-9T2ZdaB6",
        "colab_type": "text"
      },
      "cell_type": "markdown",
      "source": [
        "**Objects and Data Structure**"
      ]
    },
    {
      "metadata": {
        "id": "GZg3B_rkd741",
        "colab_type": "code",
        "colab": {}
      },
      "cell_type": "code",
      "source": [
        ""
      ],
      "execution_count": 0,
      "outputs": []
    },
    {
      "metadata": {
        "id": "mf91xrIjeedu",
        "colab_type": "text"
      },
      "cell_type": "markdown",
      "source": [
        "## **Python Comparison Operators**"
      ]
    },
    {
      "metadata": {
        "id": "z3h8V-URemfX",
        "colab_type": "text"
      },
      "cell_type": "markdown",
      "source": [
        "**Comparison Operatos**"
      ]
    },
    {
      "metadata": {
        "id": "cAUFBf0Teht5",
        "colab_type": "code",
        "colab": {}
      },
      "cell_type": "code",
      "source": [
        ""
      ],
      "execution_count": 0,
      "outputs": []
    },
    {
      "metadata": {
        "id": "mjOLL359e42f",
        "colab_type": "text"
      },
      "cell_type": "markdown",
      "source": [
        "**Chaining Comparison Operators**"
      ]
    },
    {
      "metadata": {
        "id": "x_I_i2u4e83M",
        "colab_type": "code",
        "colab": {}
      },
      "cell_type": "code",
      "source": [
        ""
      ],
      "execution_count": 0,
      "outputs": []
    },
    {
      "metadata": {
        "id": "t1WgmNDSep8A",
        "colab_type": "text"
      },
      "cell_type": "markdown",
      "source": [
        "##**Python Statements**"
      ]
    },
    {
      "metadata": {
        "id": "OcB4cyQMe_zx",
        "colab_type": "text"
      },
      "cell_type": "markdown",
      "source": [
        "**If Elif and Else Statements**"
      ]
    },
    {
      "metadata": {
        "id": "hsaGJqEjfFna",
        "colab_type": "code",
        "colab": {}
      },
      "cell_type": "code",
      "source": [
        ""
      ],
      "execution_count": 0,
      "outputs": []
    },
    {
      "metadata": {
        "id": "JOUOFmBOfGxV",
        "colab_type": "text"
      },
      "cell_type": "markdown",
      "source": [
        "**For Loops**"
      ]
    },
    {
      "metadata": {
        "id": "oKdHQrAteojG",
        "colab_type": "code",
        "colab": {}
      },
      "cell_type": "code",
      "source": [
        ""
      ],
      "execution_count": 0,
      "outputs": []
    },
    {
      "metadata": {
        "id": "BH7jDfipfZsO",
        "colab_type": "text"
      },
      "cell_type": "markdown",
      "source": [
        "**While Loops**"
      ]
    },
    {
      "metadata": {
        "id": "RSc_t5_VfcBa",
        "colab_type": "code",
        "colab": {}
      },
      "cell_type": "code",
      "source": [
        ""
      ],
      "execution_count": 0,
      "outputs": []
    },
    {
      "metadata": {
        "id": "abHdbTdBfd-3",
        "colab_type": "text"
      },
      "cell_type": "markdown",
      "source": [
        "**Useful Operators**"
      ]
    },
    {
      "metadata": {
        "id": "MNgyI3YcfioK",
        "colab_type": "code",
        "colab": {}
      },
      "cell_type": "code",
      "source": [
        ""
      ],
      "execution_count": 0,
      "outputs": []
    },
    {
      "metadata": {
        "id": "YtQ0LTHEflnn",
        "colab_type": "text"
      },
      "cell_type": "markdown",
      "source": [
        "**List Comprehensions**"
      ]
    },
    {
      "metadata": {
        "id": "IwIHqmkufk6v",
        "colab_type": "code",
        "colab": {}
      },
      "cell_type": "code",
      "source": [
        ""
      ],
      "execution_count": 0,
      "outputs": []
    },
    {
      "metadata": {
        "id": "vNgMbs1qfy4J",
        "colab_type": "text"
      },
      "cell_type": "markdown",
      "source": [
        "##**Methods and Functions**"
      ]
    },
    {
      "metadata": {
        "id": "61-scKrGf37e",
        "colab_type": "text"
      },
      "cell_type": "markdown",
      "source": [
        "**Methods**"
      ]
    },
    {
      "metadata": {
        "id": "hIf5GPf4f3iP",
        "colab_type": "code",
        "colab": {}
      },
      "cell_type": "code",
      "source": [
        ""
      ],
      "execution_count": 0,
      "outputs": []
    },
    {
      "metadata": {
        "id": "fNPIgCMVf8Nc",
        "colab_type": "text"
      },
      "cell_type": "markdown",
      "source": [
        "**Functions**"
      ]
    },
    {
      "metadata": {
        "id": "E2W1U_8-gCdH",
        "colab_type": "code",
        "colab": {}
      },
      "cell_type": "code",
      "source": [
        ""
      ],
      "execution_count": 0,
      "outputs": []
    },
    {
      "metadata": {
        "id": "8CSWr7XxgCxI",
        "colab_type": "text"
      },
      "cell_type": "markdown",
      "source": [
        "** \\*args and \\*\\* kwargs** "
      ]
    },
    {
      "metadata": {
        "id": "HH8xFARegcqi",
        "colab_type": "code",
        "colab": {}
      },
      "cell_type": "code",
      "source": [
        ""
      ],
      "execution_count": 0,
      "outputs": []
    },
    {
      "metadata": {
        "id": "OS_otTzYgbea",
        "colab_type": "text"
      },
      "cell_type": "markdown",
      "source": [
        "**Lambda Expressions, Map and Filter**"
      ]
    },
    {
      "metadata": {
        "id": "X-B8bevhgSJS",
        "colab_type": "code",
        "colab": {}
      },
      "cell_type": "code",
      "source": [
        ""
      ],
      "execution_count": 0,
      "outputs": []
    },
    {
      "metadata": {
        "id": "oBGto5Nygp04",
        "colab_type": "text"
      },
      "cell_type": "markdown",
      "source": [
        "**Nested Statements and Scope**"
      ]
    },
    {
      "metadata": {
        "id": "-Fg3tH_Qg2hK",
        "colab_type": "code",
        "colab": {}
      },
      "cell_type": "code",
      "source": [
        ""
      ],
      "execution_count": 0,
      "outputs": []
    },
    {
      "metadata": {
        "id": "ECZgol9LhPHx",
        "colab_type": "text"
      },
      "cell_type": "markdown",
      "source": [
        "##**Object Oriented Programming**"
      ]
    },
    {
      "metadata": {
        "id": "g7YCbNFBhakI",
        "colab_type": "text"
      },
      "cell_type": "markdown",
      "source": [
        "**Attributes and Class Keyword**"
      ]
    },
    {
      "metadata": {
        "id": "YZnQ6YXahUK4",
        "colab_type": "code",
        "colab": {}
      },
      "cell_type": "code",
      "source": [
        ""
      ],
      "execution_count": 0,
      "outputs": []
    },
    {
      "metadata": {
        "id": "fXNPJpuZh_dJ",
        "colab_type": "text"
      },
      "cell_type": "markdown",
      "source": [
        "**Class Object Attibutes and Methods**"
      ]
    },
    {
      "metadata": {
        "id": "8YgsUu5diHbJ",
        "colab_type": "code",
        "colab": {}
      },
      "cell_type": "code",
      "source": [
        ""
      ],
      "execution_count": 0,
      "outputs": []
    },
    {
      "metadata": {
        "id": "N5oL5x_yiSM6",
        "colab_type": "text"
      },
      "cell_type": "markdown",
      "source": [
        "**Inheritance and polymorphism**"
      ]
    },
    {
      "metadata": {
        "id": "_WT6ixX5idkY",
        "colab_type": "code",
        "colab": {}
      },
      "cell_type": "code",
      "source": [
        ""
      ],
      "execution_count": 0,
      "outputs": []
    },
    {
      "metadata": {
        "id": "M7iopn8iid_d",
        "colab_type": "text"
      },
      "cell_type": "markdown",
      "source": [
        "**Special (Magic/Dunder) Methods**"
      ]
    },
    {
      "metadata": {
        "id": "PFyf6nBNiml3",
        "colab_type": "code",
        "colab": {}
      },
      "cell_type": "code",
      "source": [
        ""
      ],
      "execution_count": 0,
      "outputs": []
    },
    {
      "metadata": {
        "id": "MkwL0SIsirm9",
        "colab_type": "text"
      },
      "cell_type": "markdown",
      "source": [
        "##**Modules and Packages**"
      ]
    },
    {
      "metadata": {
        "id": "yV88ulUKiwBu",
        "colab_type": "text"
      },
      "cell_type": "markdown",
      "source": [
        "**Pip install and Pypi**"
      ]
    },
    {
      "metadata": {
        "id": "b44_t0P1i140",
        "colab_type": "code",
        "colab": {}
      },
      "cell_type": "code",
      "source": [
        ""
      ],
      "execution_count": 0,
      "outputs": []
    },
    {
      "metadata": {
        "id": "w1g668jOi2DH",
        "colab_type": "text"
      },
      "cell_type": "markdown",
      "source": [
        "**Modules and Packages**"
      ]
    },
    {
      "metadata": {
        "id": "zAJkPScwi5QL",
        "colab_type": "code",
        "colab": {}
      },
      "cell_type": "code",
      "source": [
        ""
      ],
      "execution_count": 0,
      "outputs": []
    },
    {
      "metadata": {
        "id": "znsUQTZmi5Z2",
        "colab_type": "text"
      },
      "cell_type": "markdown",
      "source": [
        "**_name and \"_main_\"**"
      ]
    },
    {
      "metadata": {
        "id": "38dl6gotjGR3",
        "colab_type": "code",
        "colab": {}
      },
      "cell_type": "code",
      "source": [
        ""
      ],
      "execution_count": 0,
      "outputs": []
    },
    {
      "metadata": {
        "id": "CO9zmWNajHuO",
        "colab_type": "text"
      },
      "cell_type": "markdown",
      "source": [
        "##**Erros and Exceptions Handling**"
      ]
    },
    {
      "metadata": {
        "id": "Qq3vKDvkjOP9",
        "colab_type": "text"
      },
      "cell_type": "markdown",
      "source": [
        "**Erros and Exceptions Handling**"
      ]
    },
    {
      "metadata": {
        "id": "0mbYGwoGjXKJ",
        "colab_type": "code",
        "colab": {}
      },
      "cell_type": "code",
      "source": [
        ""
      ],
      "execution_count": 0,
      "outputs": []
    },
    {
      "metadata": {
        "id": "380D3zBFjXl7",
        "colab_type": "text"
      },
      "cell_type": "markdown",
      "source": [
        "##**Decorators**"
      ]
    },
    {
      "metadata": {
        "id": "d2ZF3rKMjfDz",
        "colab_type": "text"
      },
      "cell_type": "markdown",
      "source": [
        "**Decorators**"
      ]
    },
    {
      "metadata": {
        "id": "7f7lOvENjef0",
        "colab_type": "code",
        "colab": {}
      },
      "cell_type": "code",
      "source": [
        ""
      ],
      "execution_count": 0,
      "outputs": []
    },
    {
      "metadata": {
        "id": "jAXDCGuEjqkp",
        "colab_type": "text"
      },
      "cell_type": "markdown",
      "source": [
        "##**Generators**"
      ]
    },
    {
      "metadata": {
        "id": "oUY4FOtYjuVG",
        "colab_type": "text"
      },
      "cell_type": "markdown",
      "source": [
        "**Generators**"
      ]
    },
    {
      "metadata": {
        "id": "PPESuKm2jwA2",
        "colab_type": "code",
        "colab": {}
      },
      "cell_type": "code",
      "source": [
        ""
      ],
      "execution_count": 0,
      "outputs": []
    },
    {
      "metadata": {
        "id": "nk_CoVnkj5L1",
        "colab_type": "text"
      },
      "cell_type": "markdown",
      "source": [
        "##**Advanced Modules**"
      ]
    },
    {
      "metadata": {
        "id": "e04l8L2yj_RZ",
        "colab_type": "text"
      },
      "cell_type": "markdown",
      "source": [
        "**Colections Module - counter**"
      ]
    },
    {
      "metadata": {
        "id": "tiwjq4NJkJ_h",
        "colab_type": "code",
        "colab": {}
      },
      "cell_type": "code",
      "source": [
        ""
      ],
      "execution_count": 0,
      "outputs": []
    },
    {
      "metadata": {
        "id": "c3QyABZbkLXK",
        "colab_type": "text"
      },
      "cell_type": "markdown",
      "source": [
        "**Colections Module - defaultdict**"
      ]
    },
    {
      "metadata": {
        "id": "y1T33zqVkOs5",
        "colab_type": "code",
        "colab": {}
      },
      "cell_type": "code",
      "source": [
        ""
      ],
      "execution_count": 0,
      "outputs": []
    },
    {
      "metadata": {
        "id": "ExfujeD0kO3C",
        "colab_type": "text"
      },
      "cell_type": "markdown",
      "source": [
        "**Colections Module - OrderedDict**"
      ]
    },
    {
      "metadata": {
        "id": "--qD236akRwc",
        "colab_type": "code",
        "colab": {}
      },
      "cell_type": "code",
      "source": [
        ""
      ],
      "execution_count": 0,
      "outputs": []
    },
    {
      "metadata": {
        "id": "ipsUAENTkR5j",
        "colab_type": "text"
      },
      "cell_type": "markdown",
      "source": [
        "**Colections Module - namedtuple**"
      ]
    },
    {
      "metadata": {
        "id": "Absv3aomkU90",
        "colab_type": "code",
        "colab": {}
      },
      "cell_type": "code",
      "source": [
        ""
      ],
      "execution_count": 0,
      "outputs": []
    },
    {
      "metadata": {
        "id": "FPSyGpfKkVFi",
        "colab_type": "text"
      },
      "cell_type": "markdown",
      "source": [
        "**Datetime**"
      ]
    },
    {
      "metadata": {
        "id": "SrFoTX7ekYKF",
        "colab_type": "code",
        "colab": {}
      },
      "cell_type": "code",
      "source": [
        ""
      ],
      "execution_count": 0,
      "outputs": []
    },
    {
      "metadata": {
        "id": "asrFOB8XkYTy",
        "colab_type": "text"
      },
      "cell_type": "markdown",
      "source": [
        "**Debugger - pdb**"
      ]
    },
    {
      "metadata": {
        "id": "WimxVzMxkdIy",
        "colab_type": "code",
        "colab": {}
      },
      "cell_type": "code",
      "source": [
        ""
      ],
      "execution_count": 0,
      "outputs": []
    },
    {
      "metadata": {
        "id": "nh_EZOD6kdV0",
        "colab_type": "text"
      },
      "cell_type": "markdown",
      "source": [
        "**Timing your code - timeit**"
      ]
    },
    {
      "metadata": {
        "id": "_Lx_wWXWkitb",
        "colab_type": "code",
        "colab": {}
      },
      "cell_type": "code",
      "source": [
        ""
      ],
      "execution_count": 0,
      "outputs": []
    },
    {
      "metadata": {
        "id": "C1m_ooHRki1t",
        "colab_type": "text"
      },
      "cell_type": "markdown",
      "source": [
        "**Regular expressions -re**"
      ]
    },
    {
      "metadata": {
        "id": "Lvi4vUKbkmkY",
        "colab_type": "code",
        "colab": {}
      },
      "cell_type": "code",
      "source": [
        ""
      ],
      "execution_count": 0,
      "outputs": []
    },
    {
      "metadata": {
        "id": "ckzBr3hzkmvI",
        "colab_type": "text"
      },
      "cell_type": "markdown",
      "source": [
        "**StringIO**"
      ]
    },
    {
      "metadata": {
        "id": "5WDWivYTksL6",
        "colab_type": "code",
        "colab": {}
      },
      "cell_type": "code",
      "source": [
        ""
      ],
      "execution_count": 0,
      "outputs": []
    },
    {
      "metadata": {
        "id": "HlGDazmWksT1",
        "colab_type": "text"
      },
      "cell_type": "markdown",
      "source": [
        "##**Advanced Objects and Data Strucures**"
      ]
    },
    {
      "metadata": {
        "id": "z2j7JY2Xk7qf",
        "colab_type": "text"
      },
      "cell_type": "markdown",
      "source": [
        "**Advanced Numbers**"
      ]
    },
    {
      "metadata": {
        "id": "3WjS_t6klDao",
        "colab_type": "code",
        "colab": {}
      },
      "cell_type": "code",
      "source": [
        ""
      ],
      "execution_count": 0,
      "outputs": []
    },
    {
      "metadata": {
        "id": "7JWm4gi5lDhn",
        "colab_type": "text"
      },
      "cell_type": "markdown",
      "source": [
        "**Advanced Strings**"
      ]
    },
    {
      "metadata": {
        "id": "kcXaVzhHlGrg",
        "colab_type": "code",
        "colab": {}
      },
      "cell_type": "code",
      "source": [
        ""
      ],
      "execution_count": 0,
      "outputs": []
    },
    {
      "metadata": {
        "id": "q-A6lseelG1Q",
        "colab_type": "text"
      },
      "cell_type": "markdown",
      "source": [
        "**Advanced Sets**"
      ]
    },
    {
      "metadata": {
        "id": "4vm_SHoHlKn6",
        "colab_type": "code",
        "colab": {}
      },
      "cell_type": "code",
      "source": [
        ""
      ],
      "execution_count": 0,
      "outputs": []
    },
    {
      "metadata": {
        "id": "dBZh94dLlKvn",
        "colab_type": "text"
      },
      "cell_type": "markdown",
      "source": [
        "**Advanced Dictionaries**"
      ]
    },
    {
      "metadata": {
        "id": "L_j-B7zclO_t",
        "colab_type": "code",
        "colab": {}
      },
      "cell_type": "code",
      "source": [
        ""
      ],
      "execution_count": 0,
      "outputs": []
    },
    {
      "metadata": {
        "id": "H636tFNLlPHG",
        "colab_type": "text"
      },
      "cell_type": "markdown",
      "source": [
        "**Advanced Lists**"
      ]
    },
    {
      "metadata": {
        "id": "TBIL-5XJlTpR",
        "colab_type": "code",
        "colab": {}
      },
      "cell_type": "code",
      "source": [
        ""
      ],
      "execution_count": 0,
      "outputs": []
    },
    {
      "metadata": {
        "id": "WnSl9c73lgQz",
        "colab_type": "text"
      },
      "cell_type": "markdown",
      "source": [
        "##**Introductionto GUIs**"
      ]
    },
    {
      "metadata": {
        "id": "aIgEJ5G0li4M",
        "colab_type": "text"
      },
      "cell_type": "markdown",
      "source": [
        "**Introduction do GUIs**"
      ]
    },
    {
      "metadata": {
        "id": "8hdNwPhAl_ZF",
        "colab_type": "code",
        "colab": {}
      },
      "cell_type": "code",
      "source": [
        ""
      ],
      "execution_count": 0,
      "outputs": []
    },
    {
      "metadata": {
        "id": "RySS5Fvdl_oP",
        "colab_type": "text"
      },
      "cell_type": "markdown",
      "source": [
        "**Quick note about ipywidgets**"
      ]
    },
    {
      "metadata": {
        "id": "6HIW30I2mMPS",
        "colab_type": "code",
        "colab": {}
      },
      "cell_type": "code",
      "source": [
        ""
      ],
      "execution_count": 0,
      "outputs": []
    },
    {
      "metadata": {
        "id": "8jJZ9XB1mMZH",
        "colab_type": "text"
      },
      "cell_type": "markdown",
      "source": [
        "**Interact Functionality with GUI**"
      ]
    },
    {
      "metadata": {
        "id": "A2HREC9UmSKF",
        "colab_type": "code",
        "colab": {}
      },
      "cell_type": "code",
      "source": [
        ""
      ],
      "execution_count": 0,
      "outputs": []
    },
    {
      "metadata": {
        "id": "vmP3WO2FmSTw",
        "colab_type": "text"
      },
      "cell_type": "markdown",
      "source": [
        "**GUI Widget Basics**"
      ]
    },
    {
      "metadata": {
        "id": "EUf2iIZTmgis",
        "colab_type": "code",
        "colab": {}
      },
      "cell_type": "code",
      "source": [
        ""
      ],
      "execution_count": 0,
      "outputs": []
    },
    {
      "metadata": {
        "id": "0e3BirjPmgrB",
        "colab_type": "text"
      },
      "cell_type": "markdown",
      "source": [
        "**List of Possible Widgets**"
      ]
    },
    {
      "metadata": {
        "id": "Ufs-Urlmmk86",
        "colab_type": "code",
        "colab": {}
      },
      "cell_type": "code",
      "source": [
        ""
      ],
      "execution_count": 0,
      "outputs": []
    },
    {
      "metadata": {
        "id": "N_ppiPmKmlEX",
        "colab_type": "text"
      },
      "cell_type": "markdown",
      "source": [
        "**Widget Styling and Layouts**"
      ]
    },
    {
      "metadata": {
        "id": "FcAfp10jmqmZ",
        "colab_type": "code",
        "colab": {}
      },
      "cell_type": "code",
      "source": [
        ""
      ],
      "execution_count": 0,
      "outputs": []
    }
  ]
}