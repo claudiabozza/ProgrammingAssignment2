{
  "nbformat": 4,
  "nbformat_minor": 0,
  "metadata": {
    "colab": {
      "name": "API-Kraken-Cryptocurrencies.ipynb",
      "version": "0.3.2",
      "provenance": [],
      "include_colab_link": true
    },
    "kernelspec": {
      "name": "python3",
      "display_name": "Python 3"
    }
  },
  "cells": [
    {
      "cell_type": "markdown",
      "metadata": {
        "id": "view-in-github",
        "colab_type": "text"
      },
      "source": [
        "<a href=\"https://colab.research.google.com/github/claudiabozza/ProgrammingAssignment2/blob/master/Kraken_api_cryptocurrencies.ipynb\" target=\"_parent\"><img src=\"https://colab.research.google.com/assets/colab-badge.svg\" alt=\"Open In Colab\"/></a>"
      ]
    },
    {
      "metadata": {
        "id": "GxiG40MesMdK",
        "colab_type": "text"
      },
      "cell_type": "markdown",
      "source": [
        "## How to pull all trade data using the Kraken REST API\n",
        "\n",
        "How to pull all trade data using the Kraken REST API OHLC data does not go back beyond a certain number of frames and depending on the interval it won't go back past 24 hours. The \"since\" value is mainly used to receive incremental updates.\n",
        "\n",
        "You can build your own OHLC from trades data. Start with \"since\" of 0 to get trade data from the beginning.\n",
        "\n",
        "https://api.kraken.com/0/public/Trades?pair=XXBTZEUR&since=0\n",
        "\n",
        "Then from the returned data, grab the \"last\" time ID (i.e. ...,\"last\":\"1383839436659595694\"}})\n",
        "\n",
        "Use that ID for the \"since\" value in the new poll to get the next set of data:\n",
        "\n",
        "https://api.kraken.com/0/public/Trades?pair=XXBTZEUR&since=1383839436659595694\n"
      ]
    },
    {
      "metadata": {
        "id": "0UleRHJCt2ZO",
        "colab_type": "text"
      },
      "cell_type": "markdown",
      "source": [
        "# First load all libraries"
      ]
    },
    {
      "metadata": {
        "id": "mvlmAqJssyMt",
        "colab_type": "code",
        "outputId": "defed517-e1dc-44ec-f839-b3bd6e67ea2d",
        "colab": {
          "base_uri": "https://localhost:8080/",
          "height": 190
        }
      },
      "cell_type": "code",
      "source": [
        "!pip install retrying"
      ],
      "execution_count": 0,
      "outputs": [
        {
          "output_type": "stream",
          "text": [
            "Collecting retrying\n",
            "  Downloading https://files.pythonhosted.org/packages/44/ef/beae4b4ef80902f22e3af073397f079c96969c69b2c7d52a57ea9ae61c9d/retrying-1.3.3.tar.gz\n",
            "Requirement already satisfied: six>=1.7.0 in /usr/local/lib/python3.6/dist-packages (from retrying) (1.11.0)\n",
            "Building wheels for collected packages: retrying\n",
            "  Running setup.py bdist_wheel for retrying ... \u001b[?25l-\b \bdone\n",
            "\u001b[?25h  Stored in directory: /root/.cache/pip/wheels/d7/a9/33/acc7b709e2a35caa7d4cae442f6fe6fbf2c43f80823d46460c\n",
            "Successfully built retrying\n",
            "Installing collected packages: retrying\n",
            "Successfully installed retrying-1.3.3\n"
          ],
          "name": "stdout"
        }
      ]
    },
    {
      "metadata": {
        "id": "YzUqJBIxsOyw",
        "colab_type": "code",
        "colab": {}
      },
      "cell_type": "code",
      "source": [
        "import requests\n",
        "import pandas as pd\n",
        "from pandas.io.json import json_normalize\n",
        "import glob\n",
        "import numpy as np\n",
        "from retrying import retry\n",
        "import re\n",
        "import os"
      ],
      "execution_count": 0,
      "outputs": []
    },
    {
      "metadata": {
        "id": "X__wDVa2uhtp",
        "colab_type": "code",
        "colab": {}
      },
      "cell_type": "code",
      "source": [
        "from google.colab import files"
      ],
      "execution_count": 0,
      "outputs": []
    },
    {
      "metadata": {
        "id": "KDV1div232V1",
        "colab_type": "code",
        "outputId": "41b879bd-6342-4573-d1bc-63d0b3028079",
        "colab": {
          "base_uri": "https://localhost:8080/",
          "height": 122
        }
      },
      "cell_type": "code",
      "source": [
        "from google.colab import drive\n",
        "drive.mount('/content/gdrive')"
      ],
      "execution_count": 0,
      "outputs": [
        {
          "output_type": "stream",
          "text": [
            "Go to this URL in a browser: https://accounts.google.com/o/oauth2/auth?client_id=947318989803-6bn6qk8qdgf4n4g3pfee6491hc0brc4i.apps.googleusercontent.com&redirect_uri=urn%3Aietf%3Awg%3Aoauth%3A2.0%3Aoob&scope=email%20https%3A%2F%2Fwww.googleapis.com%2Fauth%2Fdocs.test%20https%3A%2F%2Fwww.googleapis.com%2Fauth%2Fdrive%20https%3A%2F%2Fwww.googleapis.com%2Fauth%2Fdrive.photos.readonly%20https%3A%2F%2Fwww.googleapis.com%2Fauth%2Fpeopleapi.readonly&response_type=code\n",
            "\n",
            "Enter your authorization code:\n",
            "··········\n",
            "Mounted at /content/gdrive\n"
          ],
          "name": "stdout"
        }
      ]
    },
    {
      "metadata": {
        "id": "S8yqbF3EtDkH",
        "colab_type": "text"
      },
      "cell_type": "markdown",
      "source": [
        "# Functions to read Kraken API and save csv files to your Google Drive"
      ]
    },
    {
      "metadata": {
        "id": "ibDqFLKOA8Yq",
        "colab_type": "text"
      },
      "cell_type": "markdown",
      "source": [
        "### Chose parameters"
      ]
    },
    {
      "metadata": {
        "id": "mae_yKYXtCyR",
        "colab_type": "code",
        "colab": {}
      },
      "cell_type": "code",
      "source": [
        "currency = 'DASHUSD' # cryptocurrency code\n",
        "since = 0 # initial timestamp\n",
        "end_timestamp = '1541476117' # final timestamp"
      ],
      "execution_count": 0,
      "outputs": []
    },
    {
      "metadata": {
        "id": "CrgKEWVm7N_i",
        "colab_type": "code",
        "colab": {}
      },
      "cell_type": "code",
      "source": [
        "# chose where you're going to save your csv files, starting with '/content/gdrive/My Drive/', like the following example.\n",
        "google_drive_path = '/content/gdrive/My Drive/crypto/dash/' "
      ],
      "execution_count": 0,
      "outputs": []
    },
    {
      "metadata": {
        "id": "9BOGzchKBAoS",
        "colab_type": "text"
      },
      "cell_type": "markdown",
      "source": [
        "### Load functions"
      ]
    },
    {
      "metadata": {
        "id": "FDlIqoCUtoOu",
        "colab_type": "code",
        "colab": {}
      },
      "cell_type": "code",
      "source": [
        "def get_trade (pair = None, since=None):\n",
        "    url = \"https://api.kraken.com/0/public/Trades?pair=%s&since=%s\" % (pair, since)\n",
        "    r = requests.get(url)\n",
        "    return r.json()"
      ],
      "execution_count": 0,
      "outputs": []
    },
    {
      "metadata": {
        "id": "nfTgCwl_tsqq",
        "colab_type": "code",
        "colab": {}
      },
      "cell_type": "code",
      "source": [
        "trade = get_trade(pair = currency, since = since)"
      ],
      "execution_count": 0,
      "outputs": []
    },
    {
      "metadata": {
        "id": "ONQFSctCuAKO",
        "colab_type": "code",
        "outputId": "6a8c0c0b-661a-4425-a324-d11f840163d3",
        "colab": {
          "base_uri": "https://localhost:8080/",
          "height": 68
        }
      },
      "cell_type": "code",
      "source": [
        "print(\"last timestamp:\", trade['result']['last'])\n",
        "print(\"first line:\", trade['result']['DASHUSD'][1])\n",
        "print(\"first timestamp:\", trade['result']['DASHUSD'][1][2])"
      ],
      "execution_count": 0,
      "outputs": [
        {
          "output_type": "stream",
          "text": [
            "last timestamp: 1492513658687884900\n",
            "first line: ['70.000000', '0.61000000', 1492019142.6918, 'b', 'm', '']\n",
            "first timestamp: 1492019142.6918\n"
          ],
          "name": "stdout"
        }
      ]
    },
    {
      "metadata": {
        "id": "KggPcaCmuBh6",
        "colab_type": "code",
        "colab": {}
      },
      "cell_type": "code",
      "source": [
        "def get_all_trades (currency=None, since=None, end_timestamp=None, path=None):\n",
        "    total_files = 0\n",
        "    appended_data = []\n",
        "    trade = get_trade(currency, since)\n",
        "    end_timestamp = end_timestamp\n",
        "    while trade['result']['last'] <= end_timestamp or len(trade['result'][currency]) == 0:\n",
        "        trade = get_trade(currency, since)\n",
        "        partial_df = pd.DataFrame(list(trade['result'][currency]), \n",
        "                                  columns = ['price', 'volume', 'timestamp', 'buy_sell', 'limit_or_market', 'x'])\n",
        "        appended_data.append(partial_df)\n",
        "        save_path = '%s/%s-%s-%s.csv' % (path, currency, since, trade['result']['last'])\n",
        "        partial_df.to_csv(save_path)\n",
        "        since = trade['result']['last']\n",
        "        total_files = total_files + 1\n",
        "        print(\"Total files:\", total_files)\n",
        "    df = pd.concat(appended_data)\n",
        "    return df"
      ],
      "execution_count": 0,
      "outputs": []
    },
    {
      "metadata": {
        "id": "0nzqO2o2uFzx",
        "colab_type": "code",
        "colab": {}
      },
      "cell_type": "code",
      "source": [
        "all_trades = get_all_trades(currency=currency, since=since, end_timestamp=end_timestamp, path=google_drive_path)"
      ],
      "execution_count": 0,
      "outputs": []
    },
    {
      "metadata": {
        "id": "dfOaLXvvzEkf",
        "colab_type": "text"
      },
      "cell_type": "markdown",
      "source": [
        "###  In case of <font color='red'> error </font>  with previous function, retry loading the code below"
      ]
    },
    {
      "metadata": {
        "id": "aklbCcrAzDcW",
        "colab_type": "code",
        "colab": {}
      },
      "cell_type": "code",
      "source": [
        "@retry\n",
        "def retry_if_error(path=None, currency=None, end_timestamp = None):\n",
        "    try:\n",
        "        list_of_files = glob.glob('%s/*' % path)\n",
        "        latest_file = max(list_of_files, key=os.path.getctime)\n",
        "        since = re.search('-([0-9]+).csv', latest_file, re.IGNORECASE).group(1)\n",
        "        all_trades = get_all_trades(currency = currency, \n",
        "                                    since=since, \n",
        "                                    end_timestamp = end_timestamp, \n",
        "                                    path=path)\n",
        "    except:\n",
        "        pass\n",
        "    return all_trades"
      ],
      "execution_count": 0,
      "outputs": []
    },
    {
      "metadata": {
        "id": "35gyStE48ELu",
        "colab_type": "code",
        "colab": {}
      },
      "cell_type": "code",
      "source": [
        "new_files = retry_if_error(path=google_drive_path,\n",
        "                          currency = currency,\n",
        "                          end_timestamp = end_timestamp)"
      ],
      "execution_count": 0,
      "outputs": []
    },
    {
      "metadata": {
        "id": "2nmw979VD5if",
        "colab_type": "text"
      },
      "cell_type": "markdown",
      "source": [
        "# Save all csv files from your Google Drive to an unique csv file to your computer"
      ]
    },
    {
      "metadata": {
        "id": "Q3mQ0yk6D8pa",
        "colab_type": "code",
        "colab": {}
      },
      "cell_type": "code",
      "source": [
        "path = google_drive_path\n",
        "allFiles = glob.glob(path + \"/*.csv\")\n",
        "frame = pd.DataFrame()\n",
        "list_ = []\n",
        "for file_ in allFiles:\n",
        "    df = pd.read_csv(file_,index_col=None, header=0)\n",
        "    list_.append(df)\n",
        "frame = pd.concat(list_)"
      ],
      "execution_count": 0,
      "outputs": []
    },
    {
      "metadata": {
        "id": "B5K0L8mPEPA9",
        "colab_type": "code",
        "outputId": "5bca73a4-e1f8-4f97-f0c4-ccba0a4c8e2c",
        "colab": {
          "base_uri": "https://localhost:8080/",
          "height": 80
        }
      },
      "cell_type": "code",
      "source": [
        "# This is how your data looks like\n",
        "frame = frame[['price', 'volume', 'timestamp','buy_sell']]\n",
        "frame.head(1)"
      ],
      "execution_count": 0,
      "outputs": [
        {
          "output_type": "execute_result",
          "data": {
            "text/html": [
              "<div>\n",
              "<style scoped>\n",
              "    .dataframe tbody tr th:only-of-type {\n",
              "        vertical-align: middle;\n",
              "    }\n",
              "\n",
              "    .dataframe tbody tr th {\n",
              "        vertical-align: top;\n",
              "    }\n",
              "\n",
              "    .dataframe thead th {\n",
              "        text-align: right;\n",
              "    }\n",
              "</style>\n",
              "<table border=\"1\" class=\"dataframe\">\n",
              "  <thead>\n",
              "    <tr style=\"text-align: right;\">\n",
              "      <th></th>\n",
              "      <th>price</th>\n",
              "      <th>volume</th>\n",
              "      <th>timestamp</th>\n",
              "      <th>buy_sell</th>\n",
              "    </tr>\n",
              "  </thead>\n",
              "  <tbody>\n",
              "    <tr>\n",
              "      <th>0</th>\n",
              "      <td>66.85</td>\n",
              "      <td>3.6</td>\n",
              "      <td>1.492018e+09</td>\n",
              "      <td>b</td>\n",
              "    </tr>\n",
              "  </tbody>\n",
              "</table>\n",
              "</div>"
            ],
            "text/plain": [
              "   price  volume     timestamp buy_sell\n",
              "0  66.85     3.6  1.492018e+09        b"
            ]
          },
          "metadata": {
            "tags": []
          },
          "execution_count": 24
        }
      ]
    },
    {
      "metadata": {
        "id": "kMBzpxnnHYYk",
        "colab_type": "text"
      },
      "cell_type": "markdown",
      "source": [
        "### Chose a name for your unique csv file, like the following example"
      ]
    },
    {
      "metadata": {
        "id": "754mM70nEhgU",
        "colab_type": "code",
        "colab": {}
      },
      "cell_type": "code",
      "source": [
        "file_name = 'dash_data.csv'"
      ],
      "execution_count": 0,
      "outputs": []
    },
    {
      "metadata": {
        "id": "dUuH8FdZGpE9",
        "colab_type": "code",
        "colab": {}
      },
      "cell_type": "code",
      "source": [
        "frame.to_csv(file_name)\n",
        "files.download(file_name)"
      ],
      "execution_count": 0,
      "outputs": []
    }
  ]
}